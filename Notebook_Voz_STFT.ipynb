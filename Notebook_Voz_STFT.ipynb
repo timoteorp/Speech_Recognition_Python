{
  "nbformat": 4,
  "nbformat_minor": 0,
  "metadata": {
    "colab": {
      "name": "Notebook Voz STFT.ipynb",
      "provenance": []
    },
    "kernelspec": {
      "name": "python3",
      "display_name": "Python 3"
    }
  },
  "cells": [
    {
      "cell_type": "code",
      "metadata": {
        "id": "7c5yK3RDf9Fo",
        "colab_type": "code",
        "colab": {
          "base_uri": "https://localhost:8080/",
          "height": 170
        },
        "outputId": "86bc63f5-daed-45b2-901c-6cba8e512eaa"
      },
      "source": [
        "from importlib.machinery import SourceFileLoader\n",
        "#dataset = SourceFileLoader('dataset', '/content/drive/My Drive/Colab Notebooks/Libraries/dataset.py').load_module()\n",
        "#models = SourceFileLoader('models','/content/drive/My Drive/Colab Notebooks/Libraries/models.py').load_module()\n",
        "!pip install wget\n",
        "import wget\n",
        "data = wget.download('https://storage.googleapis.com/download.tensorflow.org/data/speech_commands_v0.01.tar.gz')\n",
        "import tarfile\n",
        "data = tarfile.open(data)\n",
        "data.extractall()"
      ],
      "execution_count": 1,
      "outputs": [
        {
          "output_type": "stream",
          "text": [
            "Collecting wget\n",
            "  Downloading https://files.pythonhosted.org/packages/47/6a/62e288da7bcda82b935ff0c6cfe542970f04e29c756b0e147251b2fb251f/wget-3.2.zip\n",
            "Building wheels for collected packages: wget\n",
            "  Building wheel for wget (setup.py) ... \u001b[?25l\u001b[?25hdone\n",
            "  Created wheel for wget: filename=wget-3.2-cp36-none-any.whl size=9682 sha256=428cd7d590a0e2e8e7b860e643080c9107f211381517d5dce31992ba0dd5cedc\n",
            "  Stored in directory: /root/.cache/pip/wheels/40/15/30/7d8f7cea2902b4db79e3fea550d7d7b85ecb27ef992b618f3f\n",
            "Successfully built wget\n",
            "Installing collected packages: wget\n",
            "Successfully installed wget-3.2\n"
          ],
          "name": "stdout"
        }
      ]
    },
    {
      "cell_type": "code",
      "metadata": {
        "id": "asCT0OWfN3fI",
        "colab_type": "code",
        "colab": {}
      },
      "source": [
        "import numpy as np\n",
        "from sklearn.metrics import accuracy_score\n",
        "from keras.callbacks import EarlyStopping\n",
        "\n",
        "INPUT_SHAPE = (177,98,1)\n",
        "BATCH = 32\n",
        "EPOCHS = 15\n",
        "DIR = '/content'\n",
        "LABELS = 'go stop off right left down on _background_noise_'.split()\n",
        "NUM_CLASSES = len(LABELS)\n",
        "dropout = 0.2"
      ],
      "execution_count": 2,
      "outputs": []
    },
    {
      "cell_type": "code",
      "metadata": {
        "id": "bw39h9eEkSoN",
        "colab_type": "code",
        "colab": {}
      },
      "source": [
        "dsGen = DatasetGenerator(label_set=LABELS) \n",
        "# Load DataFrame with paths/labels for training and validation data \n",
        "# and paths for testing data \n",
        "df = dsGen.load_data(DIR)\n",
        "\n",
        "dsGen.apply_train_test_split(test_size=0.3, random_state=2018)\n",
        "dsGen.apply_train_val_split(val_size=0.2, random_state=2018)"
      ],
      "execution_count": 7,
      "outputs": []
    },
    {
      "cell_type": "code",
      "metadata": {
        "id": "f9Lx6bKylc_S",
        "colab_type": "code",
        "colab": {
          "base_uri": "https://localhost:8080/",
          "height": 204
        },
        "outputId": "9a1a35b1-fb3b-4036-fda6-9d2b592ce22c"
      },
      "source": [
        "df.head()"
      ],
      "execution_count": 8,
      "outputs": [
        {
          "output_type": "execute_result",
          "data": {
            "text/html": [
              "<div>\n",
              "<style scoped>\n",
              "    .dataframe tbody tr th:only-of-type {\n",
              "        vertical-align: middle;\n",
              "    }\n",
              "\n",
              "    .dataframe tbody tr th {\n",
              "        vertical-align: top;\n",
              "    }\n",
              "\n",
              "    .dataframe thead th {\n",
              "        text-align: right;\n",
              "    }\n",
              "</style>\n",
              "<table border=\"1\" class=\"dataframe\">\n",
              "  <thead>\n",
              "    <tr style=\"text-align: right;\">\n",
              "      <th></th>\n",
              "      <th>label</th>\n",
              "      <th>label_id</th>\n",
              "      <th>user_id</th>\n",
              "      <th>wav_file</th>\n",
              "    </tr>\n",
              "  </thead>\n",
              "  <tbody>\n",
              "    <tr>\n",
              "      <th>0</th>\n",
              "      <td>left</td>\n",
              "      <td>4</td>\n",
              "      <td>7cbf645a_nohash_1.wav</td>\n",
              "      <td>/content/left/7cbf645a_nohash_1.wav</td>\n",
              "    </tr>\n",
              "    <tr>\n",
              "      <th>1</th>\n",
              "      <td>left</td>\n",
              "      <td>4</td>\n",
              "      <td>c9b653a0_nohash_2.wav</td>\n",
              "      <td>/content/left/c9b653a0_nohash_2.wav</td>\n",
              "    </tr>\n",
              "    <tr>\n",
              "      <th>2</th>\n",
              "      <td>left</td>\n",
              "      <td>4</td>\n",
              "      <td>8134f43f_nohash_2.wav</td>\n",
              "      <td>/content/left/8134f43f_nohash_2.wav</td>\n",
              "    </tr>\n",
              "    <tr>\n",
              "      <th>3</th>\n",
              "      <td>left</td>\n",
              "      <td>4</td>\n",
              "      <td>0b09edd3_nohash_0.wav</td>\n",
              "      <td>/content/left/0b09edd3_nohash_0.wav</td>\n",
              "    </tr>\n",
              "    <tr>\n",
              "      <th>4</th>\n",
              "      <td>left</td>\n",
              "      <td>4</td>\n",
              "      <td>b11a05d2_nohash_0.wav</td>\n",
              "      <td>/content/left/b11a05d2_nohash_0.wav</td>\n",
              "    </tr>\n",
              "  </tbody>\n",
              "</table>\n",
              "</div>"
            ],
            "text/plain": [
              "  label  label_id                user_id                             wav_file\n",
              "0  left         4  7cbf645a_nohash_1.wav  /content/left/7cbf645a_nohash_1.wav\n",
              "1  left         4  c9b653a0_nohash_2.wav  /content/left/c9b653a0_nohash_2.wav\n",
              "2  left         4  8134f43f_nohash_2.wav  /content/left/8134f43f_nohash_2.wav\n",
              "3  left         4  0b09edd3_nohash_0.wav  /content/left/0b09edd3_nohash_0.wav\n",
              "4  left         4  b11a05d2_nohash_0.wav  /content/left/b11a05d2_nohash_0.wav"
            ]
          },
          "metadata": {
            "tags": []
          },
          "execution_count": 8
        }
      ]
    },
    {
      "cell_type": "code",
      "metadata": {
        "id": "WB0BmtCjpVbx",
        "colab_type": "code",
        "colab": {
          "base_uri": "https://localhost:8080/",
          "height": 129
        },
        "outputId": "393f3739-d391-49b0-d533-12373d9402fa"
      },
      "source": [
        "teste = [wav_files[1].split(sep='\\\\')[1]"
      ],
      "execution_count": 9,
      "outputs": [
        {
          "output_type": "error",
          "ename": "SyntaxError",
          "evalue": "ignored",
          "traceback": [
            "\u001b[0;36m  File \u001b[0;32m\"<ipython-input-9-38f4c8909735>\"\u001b[0;36m, line \u001b[0;32m1\u001b[0m\n\u001b[0;31m    teste = [wav_files[1].split(sep='\\\\')[1]\u001b[0m\n\u001b[0m                                            ^\u001b[0m\n\u001b[0;31mSyntaxError\u001b[0m\u001b[0;31m:\u001b[0m unexpected EOF while parsing\n"
          ]
        }
      ]
    },
    {
      "cell_type": "code",
      "metadata": {
        "id": "X3_KHQ4PxVsm",
        "colab_type": "code",
        "colab": {
          "base_uri": "https://localhost:8080/",
          "height": 1000
        },
        "outputId": "9e1d181e-17b8-407a-b0a1-c470e22cdbbf"
      },
      "source": [
        "#model = models.deep_cnn(INPUT_SHAPE, NUM_CLASSES)\n",
        "model = deep_cnn(INPUT_SHAPE, NUM_CLASSES)\n",
        "model.compile(optimizer='Adam', loss='categorical_crossentropy', metrics=['acc'])\n",
        "\n",
        "callbacks = [EarlyStopping(monitor='val_acc', patience=4, verbose=1, mode='max')]\n",
        "\n",
        "history = model.fit_generator(generator=dsGen.generator(BATCH, mode='train'),\n",
        "                              steps_per_epoch=int(np.ceil(len(dsGen.df_train)/BATCH)),\n",
        "                              epochs=EPOCHS,\n",
        "                              verbose=1,\n",
        "                              callbacks=callbacks,\n",
        "                              validation_data=dsGen.generator(BATCH, mode='val'),\n",
        "                              validation_steps=int(np.ceil(len(dsGen.df_val)/BATCH)))"
      ],
      "execution_count": 10,
      "outputs": [
        {
          "output_type": "stream",
          "text": [
            "Model: \"functional_1\"\n",
            "_________________________________________________________________\n",
            "Layer (type)                 Output Shape              Param #   \n",
            "=================================================================\n",
            "inputs (InputLayer)          [(None, 177, 98, 1)]      0         \n",
            "_________________________________________________________________\n",
            "block1_conv (Conv2D)         (None, 177, 98, 32)       320       \n",
            "_________________________________________________________________\n",
            "block1_pool (MaxPooling2D)   (None, 89, 49, 32)        0         \n",
            "_________________________________________________________________\n",
            "block1_norm (BatchNormalizat (None, 89, 49, 32)        128       \n",
            "_________________________________________________________________\n",
            "block2_conv (Conv2D)         (None, 89, 49, 32)        9248      \n",
            "_________________________________________________________________\n",
            "block2_pool (MaxPooling2D)   (None, 45, 25, 32)        0         \n",
            "_________________________________________________________________\n",
            "block2_norm (BatchNormalizat (None, 45, 25, 32)        128       \n",
            "_________________________________________________________________\n",
            "block3_conv (Conv2D)         (None, 45, 25, 32)        9248      \n",
            "_________________________________________________________________\n",
            "block3_pool (MaxPooling2D)   (None, 23, 13, 32)        0         \n",
            "_________________________________________________________________\n",
            "block3_norm (BatchNormalizat (None, 23, 13, 32)        128       \n",
            "_________________________________________________________________\n",
            "flatten (Flatten)            (None, 9568)              0         \n",
            "_________________________________________________________________\n",
            "dense (Dense)                (None, 64)                612416    \n",
            "_________________________________________________________________\n",
            "dense_norm (BatchNormalizati (None, 64)                256       \n",
            "_________________________________________________________________\n",
            "dropout (Dropout)            (None, 64)                0         \n",
            "_________________________________________________________________\n",
            "pred (Dense)                 (None, 8)                 520       \n",
            "=================================================================\n",
            "Total params: 632,392\n",
            "Trainable params: 632,072\n",
            "Non-trainable params: 320\n",
            "_________________________________________________________________\n",
            "WARNING:tensorflow:From <ipython-input-10-a07fbce680b2>:13: Model.fit_generator (from tensorflow.python.keras.engine.training) is deprecated and will be removed in a future version.\n",
            "Instructions for updating:\n",
            "Please use Model.fit, which supports generators.\n",
            "Epoch 1/15\n",
            " 67/290 [=====>........................] - ETA: 2:25 - loss: 1.9617 - acc: 0.3074"
          ],
          "name": "stdout"
        },
        {
          "output_type": "stream",
          "text": [
            "/usr/local/lib/python3.6/dist-packages/ipykernel_launcher.py:69: WavFileWarning: Chunk (non-data) not understood, skipping it.\n"
          ],
          "name": "stderr"
        },
        {
          "output_type": "stream",
          "text": [
            "290/290 [==============================] - 205s 707ms/step - loss: 1.3126 - acc: 0.5391 - val_loss: 2.3830 - val_acc: 0.3502\n",
            "Epoch 2/15\n",
            "290/290 [==============================] - 205s 707ms/step - loss: 0.6118 - acc: 0.7979 - val_loss: 0.5862 - val_acc: 0.7982\n",
            "Epoch 3/15\n",
            "290/290 [==============================] - 204s 702ms/step - loss: 0.3989 - acc: 0.8739 - val_loss: 0.5641 - val_acc: 0.8129\n",
            "Epoch 4/15\n",
            "290/290 [==============================] - 205s 706ms/step - loss: 0.2835 - acc: 0.9106 - val_loss: 1.7628 - val_acc: 0.4873\n",
            "Epoch 5/15\n",
            "290/290 [==============================] - 205s 706ms/step - loss: 0.2296 - acc: 0.9297 - val_loss: 0.3204 - val_acc: 0.8987\n",
            "Epoch 6/15\n",
            "290/290 [==============================] - 204s 704ms/step - loss: 0.1902 - acc: 0.9375 - val_loss: 0.5528 - val_acc: 0.8180\n",
            "Epoch 7/15\n",
            "290/290 [==============================] - 204s 702ms/step - loss: 0.1456 - acc: 0.9526 - val_loss: 0.3884 - val_acc: 0.8676\n",
            "Epoch 8/15\n",
            "290/290 [==============================] - 206s 711ms/step - loss: 0.1292 - acc: 0.9586 - val_loss: 0.2784 - val_acc: 0.9056\n",
            "Epoch 9/15\n",
            "290/290 [==============================] - 205s 707ms/step - loss: 0.1031 - acc: 0.9674 - val_loss: 0.5580 - val_acc: 0.8003\n",
            "Epoch 10/15\n",
            "290/290 [==============================] - 204s 705ms/step - loss: 0.0972 - acc: 0.9685 - val_loss: 1.0463 - val_acc: 0.7206\n",
            "Epoch 11/15\n",
            "290/290 [==============================] - 205s 708ms/step - loss: 0.0808 - acc: 0.9750 - val_loss: 0.2782 - val_acc: 0.9129\n",
            "Epoch 12/15\n",
            "290/290 [==============================] - 204s 704ms/step - loss: 0.0740 - acc: 0.9761 - val_loss: 0.4210 - val_acc: 0.8780\n",
            "Epoch 13/15\n",
            "290/290 [==============================] - 206s 710ms/step - loss: 0.0628 - acc: 0.9803 - val_loss: 1.6162 - val_acc: 0.6572\n",
            "Epoch 14/15\n",
            "290/290 [==============================] - 205s 708ms/step - loss: 0.0634 - acc: 0.9797 - val_loss: 0.3816 - val_acc: 0.8797\n",
            "Epoch 15/15\n",
            "290/290 [==============================] - 205s 706ms/step - loss: 0.0464 - acc: 0.9864 - val_loss: 0.2491 - val_acc: 0.9176\n"
          ],
          "name": "stdout"
        }
      ]
    },
    {
      "cell_type": "code",
      "metadata": {
        "id": "NW2dLuiR-TPh",
        "colab_type": "code",
        "colab": {
          "base_uri": "https://localhost:8080/",
          "height": 1000
        },
        "outputId": "7bd962ae-5f82-40a7-8a33-a2eeccb7abde"
      },
      "source": [
        "model = deep_cnn_matlab(INPUT_SHAPE, NUM_CLASSES)\n",
        "model.compile(optimizer='Adam', loss='categorical_crossentropy', metrics=['acc'])\n",
        "\n",
        "callbacks = [EarlyStopping(monitor='val_acc', patience=4, verbose=1, mode='max')]\n",
        "\n",
        "history = model.fit_generator(generator=dsGen.generator(BATCH, mode='train'),\n",
        "                              steps_per_epoch=int(np.ceil(len(dsGen.df_train)/BATCH)),\n",
        "                              epochs=EPOCHS,\n",
        "                              verbose=1,\n",
        "                              callbacks=callbacks,\n",
        "                              validation_data=dsGen.generator(BATCH, mode='val'),\n",
        "                              validation_steps=int(np.ceil(len(dsGen.df_val)/BATCH)))"
      ],
      "execution_count": null,
      "outputs": [
        {
          "output_type": "stream",
          "text": [
            "Model: \"model_7\"\n",
            "_________________________________________________________________\n",
            "Layer (type)                 Output Shape              Param #   \n",
            "=================================================================\n",
            "inputs (InputLayer)          (None, 177, 98, 1)        0         \n",
            "_________________________________________________________________\n",
            "block1_conv (Conv2D)         (None, 177, 98, 16)       160       \n",
            "_________________________________________________________________\n",
            "block1_norm (BatchNormalizat (None, 177, 98, 16)       64        \n",
            "_________________________________________________________________\n",
            "block1_pool (MaxPooling2D)   (None, 89, 49, 16)        0         \n",
            "_________________________________________________________________\n",
            "block2_conv (Conv2D)         (None, 89, 49, 32)        4640      \n",
            "_________________________________________________________________\n",
            "block2_norm (BatchNormalizat (None, 89, 49, 32)        128       \n",
            "_________________________________________________________________\n",
            "block2_pool (MaxPooling2D)   (None, 45, 25, 32)        0         \n",
            "_________________________________________________________________\n",
            "dropout3 (Dropout)           (None, 45, 25, 32)        0         \n",
            "_________________________________________________________________\n",
            "block3_conv (Conv2D)         (None, 45, 25, 64)        18496     \n",
            "_________________________________________________________________\n",
            "block3_norm (BatchNormalizat (None, 45, 25, 64)        256       \n",
            "_________________________________________________________________\n",
            "dropout4 (Dropout)           (None, 45, 25, 64)        0         \n",
            "_________________________________________________________________\n",
            "block4_conv (Conv2D)         (None, 45, 25, 64)        36928     \n",
            "_________________________________________________________________\n",
            "block4_norm (BatchNormalizat (None, 45, 25, 64)        256       \n",
            "_________________________________________________________________\n",
            "block4_pool (MaxPooling2D)   (None, 23, 13, 64)        0         \n",
            "_________________________________________________________________\n",
            "dropout5 (Dropout)           (None, 23, 13, 64)        0         \n",
            "_________________________________________________________________\n",
            "block5_conv (Conv2D)         (None, 23, 13, 64)        36928     \n",
            "_________________________________________________________________\n",
            "block5_norm (BatchNormalizat (None, 23, 13, 64)        256       \n",
            "_________________________________________________________________\n",
            "dropout6 (Dropout)           (None, 23, 13, 64)        0         \n",
            "_________________________________________________________________\n",
            "block6_conv (Conv2D)         (None, 23, 13, 64)        36928     \n",
            "_________________________________________________________________\n",
            "block6_norm (BatchNormalizat (None, 23, 13, 64)        256       \n",
            "_________________________________________________________________\n",
            "flatten (Flatten)            (None, 19136)             0         \n",
            "_________________________________________________________________\n",
            "dense (Dense)                (None, 64)                1224768   \n",
            "_________________________________________________________________\n",
            "dense_norm (BatchNormalizati (None, 64)                256       \n",
            "_________________________________________________________________\n",
            "dropout (Dropout)            (None, 64)                0         \n",
            "_________________________________________________________________\n",
            "pred (Dense)                 (None, 8)                 520       \n",
            "=================================================================\n",
            "Total params: 1,360,840\n",
            "Trainable params: 1,360,104\n",
            "Non-trainable params: 736\n",
            "_________________________________________________________________\n",
            "Epoch 1/15\n",
            "181/290 [=================>............] - ETA: 1:56 - loss: 1.3187 - acc: 0.5449"
          ],
          "name": "stdout"
        },
        {
          "output_type": "stream",
          "text": [
            "/usr/local/lib/python3.6/dist-packages/ipykernel_launcher.py:69: WavFileWarning: Chunk (non-data) not understood, skipping it.\n"
          ],
          "name": "stderr"
        },
        {
          "output_type": "stream",
          "text": [
            "290/290 [==============================] - 331s 1s/step - loss: 1.0631 - acc: 0.6337 - val_loss: 1.9601 - val_acc: 0.5847\n",
            "Epoch 2/15\n",
            "290/290 [==============================] - 330s 1s/step - loss: 0.4177 - acc: 0.8596 - val_loss: 0.7115 - val_acc: 0.8586\n",
            "Epoch 3/15\n",
            "290/290 [==============================] - 329s 1s/step - loss: 0.2981 - acc: 0.9020 - val_loss: 0.6980 - val_acc: 0.8400\n",
            "Epoch 4/15\n",
            "290/290 [==============================] - 328s 1s/step - loss: 0.2565 - acc: 0.9171 - val_loss: 0.3769 - val_acc: 0.9362\n",
            "Epoch 5/15\n",
            "290/290 [==============================] - 328s 1s/step - loss: 0.2024 - acc: 0.9334 - val_loss: 2.2195 - val_acc: 0.2454\n",
            "Epoch 6/15\n",
            "290/290 [==============================] - 329s 1s/step - loss: 0.2252 - acc: 0.9222 - val_loss: 0.5744 - val_acc: 0.9228\n",
            "Epoch 7/15\n",
            "290/290 [==============================] - 328s 1s/step - loss: 0.1433 - acc: 0.9536 - val_loss: 0.6759 - val_acc: 0.9353\n",
            "Epoch 8/15\n",
            "290/290 [==============================] - 329s 1s/step - loss: 0.1170 - acc: 0.9618 - val_loss: 0.4423 - val_acc: 0.9478\n",
            "Epoch 9/15\n",
            "290/290 [==============================] - 329s 1s/step - loss: 0.1070 - acc: 0.9652 - val_loss: 0.4513 - val_acc: 0.9474\n",
            "Epoch 10/15\n",
            "290/290 [==============================] - 369s 1s/step - loss: 0.0987 - acc: 0.9685 - val_loss: 0.5738 - val_acc: 0.8892\n",
            "Epoch 11/15\n",
            "290/290 [==============================] - 345s 1s/step - loss: 0.0891 - acc: 0.9708 - val_loss: 0.7471 - val_acc: 0.9409\n",
            "Epoch 12/15\n",
            "290/290 [==============================] - 368s 1s/step - loss: 0.0733 - acc: 0.9772 - val_loss: 0.7387 - val_acc: 0.9116\n",
            "Epoch 00012: early stopping\n"
          ],
          "name": "stdout"
        }
      ]
    },
    {
      "cell_type": "code",
      "metadata": {
        "id": "cLtRYHT54vl5",
        "colab_type": "code",
        "colab": {}
      },
      "source": [
        ""
      ],
      "execution_count": null,
      "outputs": []
    },
    {
      "cell_type": "code",
      "metadata": {
        "id": "fwxLGs8R9Iws",
        "colab_type": "code",
        "colab": {}
      },
      "source": [
        "!mkdir dataset_test\n",
        "from distutils.dir_util import copy_tree\n",
        "\n",
        "copy_tree('/content/one','/content/dataset_test')\n",
        "copy_tree('/content/_background_noise_','/content/dataset_test')\n",
        "copy_tree('/content/two','/content/dataset_test')\n",
        "copy_tree('/content/three','/content/dataset_test')\n",
        "copy_tree('/content/four','/content/dataset_test')\n",
        "copy_tree('/content/five','/content/dataset_test')"
      ],
      "execution_count": null,
      "outputs": []
    },
    {
      "cell_type": "code",
      "metadata": {
        "id": "c2g3hbxb-lSV",
        "colab_type": "code",
        "colab": {}
      },
      "source": [
        ""
      ],
      "execution_count": null,
      "outputs": []
    },
    {
      "cell_type": "code",
      "metadata": {
        "id": "Qcr5xtih-8ek",
        "colab_type": "code",
        "colab": {
          "base_uri": "https://localhost:8080/",
          "height": 88
        },
        "outputId": "3b9b6bec-a126-47c5-ac86-6827a7cb3a3b"
      },
      "source": [
        "y_pred_proba = model.predict_generator(dsGen.generator(BATCH, mode='test'), \n",
        "                                     int(np.ceil(len(dsGen.df_test)/BATCH)), \n",
        "                                     verbose=1)\n",
        "y_pred = np.argmax(y_pred_proba, axis=1)\n",
        "\n",
        "y_true = dsGen.df_test['label_id'].values\n",
        "\n",
        "acc_score = accuracy_score(y_true, y_pred)\n",
        "print(acc_score)"
      ],
      "execution_count": null,
      "outputs": [
        {
          "output_type": "stream",
          "text": [
            " 10/156 [>.............................] - ETA: 59s "
          ],
          "name": "stdout"
        },
        {
          "output_type": "stream",
          "text": [
            "/usr/local/lib/python3.6/dist-packages/ipykernel_launcher.py:69: WavFileWarning: Chunk (non-data) not understood, skipping it.\n"
          ],
          "name": "stderr"
        },
        {
          "output_type": "stream",
          "text": [
            "156/156 [==============================] - 54s 348ms/step\n",
            "0.9150734554236265\n"
          ],
          "name": "stdout"
        }
      ]
    },
    {
      "cell_type": "markdown",
      "metadata": {
        "id": "eNBFHdMOEV2m",
        "colab_type": "text"
      },
      "source": [
        "Salvando modelos. Caso seja necessário mais informações: https://stackoverflow.com/questions/48924165/google-colaboratory-weight-download-export-saved-models"
      ]
    },
    {
      "cell_type": "code",
      "metadata": {
        "id": "Sg6htKkb_CVG",
        "colab_type": "code",
        "colab": {}
      },
      "source": [
        "!mkdir -p saved_model\n",
        "model.save('saved_model/my_model') \n",
        "\n"
      ],
      "execution_count": null,
      "outputs": []
    },
    {
      "cell_type": "code",
      "metadata": {
        "id": "hTkddzNzWkKA",
        "colab_type": "code",
        "colab": {}
      },
      "source": [
        "model_json = model.to_json()"
      ],
      "execution_count": null,
      "outputs": []
    },
    {
      "cell_type": "code",
      "metadata": {
        "id": "VHo-31dGXYcm",
        "colab_type": "code",
        "colab": {
          "base_uri": "https://localhost:8080/",
          "height": 163
        },
        "outputId": "808ce6dd-69a4-4390-bdd3-173ff6c0633d"
      },
      "source": [
        "model_json.save('saved_model/my_model')"
      ],
      "execution_count": null,
      "outputs": [
        {
          "output_type": "error",
          "ename": "AttributeError",
          "evalue": "ignored",
          "traceback": [
            "\u001b[0;31m---------------------------------------------------------------------------\u001b[0m",
            "\u001b[0;31mAttributeError\u001b[0m                            Traceback (most recent call last)",
            "\u001b[0;32m<ipython-input-28-ac17b1afaca9>\u001b[0m in \u001b[0;36m<module>\u001b[0;34m()\u001b[0m\n\u001b[0;32m----> 1\u001b[0;31m \u001b[0mmodel_json\u001b[0m\u001b[0;34m.\u001b[0m\u001b[0msave\u001b[0m\u001b[0;34m(\u001b[0m\u001b[0;34m'saved_model/my_model'\u001b[0m\u001b[0;34m)\u001b[0m\u001b[0;34m\u001b[0m\u001b[0;34m\u001b[0m\u001b[0m\n\u001b[0m",
            "\u001b[0;31mAttributeError\u001b[0m: 'str' object has no attribute 'save'"
          ]
        }
      ]
    },
    {
      "cell_type": "code",
      "metadata": {
        "id": "Vi4H759VW_ZN",
        "colab_type": "code",
        "colab": {}
      },
      "source": [
        "import json\n",
        "with open('/content/drive/My Drive/TCC/model_stft/model_json.json', \"w\") as json_file:\n",
        "    json_file.write(model_json)"
      ],
      "execution_count": null,
      "outputs": []
    },
    {
      "cell_type": "code",
      "metadata": {
        "id": "uMvmVrdPTSAM",
        "colab_type": "code",
        "colab": {
          "base_uri": "https://localhost:8080/",
          "height": 51
        },
        "outputId": "62123346-7962-4bba-eb64-5b6976c91202"
      },
      "source": [
        "from distutils.dir_util import copy_tree\n",
        "\n",
        "copy_tree('/content/saved_model','/content/drive/My Drive/TCC/model_stft')"
      ],
      "execution_count": null,
      "outputs": [
        {
          "output_type": "execute_result",
          "data": {
            "text/plain": [
              "['/content/drive/My Drive/TCC/model_stft/my_model',\n",
              " '/content/drive/My Drive/TCC/model_stft/my_model_weights']"
            ]
          },
          "metadata": {
            "tags": []
          },
          "execution_count": 23
        }
      ]
    },
    {
      "cell_type": "code",
      "metadata": {
        "id": "F6lqBYeABnIz",
        "colab_type": "code",
        "colab": {}
      },
      "source": [
        "import os\n",
        "import numpy as np\n",
        "import pandas as pd\n",
        "import random\n",
        "    \n",
        "from glob import glob\n",
        "\n",
        "from scipy.io import wavfile\n",
        "from scipy.signal import stft\n",
        "\n",
        "from sklearn.model_selection import train_test_split\n",
        "\n",
        "from keras.utils import to_categorical\n",
        "\n",
        "class DatasetGenerator():\n",
        "    def __init__(self, label_set, \n",
        "                 sample_rate=16000):\n",
        "        \n",
        "        self.label_set = label_set\n",
        "        self.sample_rate = sample_rate\n",
        "            \n",
        "    # Covert string to numerical classes              \n",
        "    def text_to_labels(self, text):\n",
        "        return self.label_set.index(text)\n",
        "    \n",
        "    # Reverse translation of numerical classes back to characters\n",
        "    def labels_to_text(self, labels):\n",
        "        return self.label_set[labels]               \n",
        "        \n",
        "    def load_data(self, DIR):\n",
        "\n",
        "        # Get all paths inside DIR that ends with wav\n",
        "        wav_files = glob(os.path.join(DIR, '*/*wav'))\n",
        "        wav_files = [x.split(sep='/')[2] + '/' + x.split(sep='/')[3] for x in wav_files]\n",
        "        \n",
        "        # Loop over files to get samples\n",
        "        data = []\n",
        "        for e in wav_files:\n",
        "            \n",
        "            label, name = e.split('/')\n",
        "            if label in self.label_set:\n",
        "                label_id = self.text_to_labels(label)\n",
        "                fle = os.path.join(DIR, e)\n",
        "                \n",
        "                sample = (label, label_id, name, fle)\n",
        "                data.append(sample)\n",
        "            \n",
        "        # Data Frames with samples' labels and paths     \n",
        "        df = pd.DataFrame(data, columns = ['label', 'label_id', 'user_id', 'wav_file'])\n",
        "        \n",
        "        self.df = df\n",
        "        \n",
        "        return self.df\n",
        "\n",
        "    def apply_train_test_split(self, test_size, random_state):\n",
        "        \n",
        "        self.df_train, self.df_test = train_test_split(self.df, \n",
        "                                                       test_size=test_size,\n",
        "                                                       random_state=random_state)\n",
        "        \n",
        "    def apply_train_val_split(self, val_size, random_state):\n",
        "        \n",
        "        self.df_train, self.df_val = train_test_split(self.df_train, \n",
        "                                                      test_size=val_size, \n",
        "                                                      random_state=random_state)\n",
        "        \n",
        "    def read_wav_file(self, x):\n",
        "        # Read wavfile using scipy wavfile.read\n",
        "        _, wav = wavfile.read(x) \n",
        "        # Normalize\n",
        "        wav = wav.astype(np.float32) / np.iinfo(np.int16).max\n",
        "            \n",
        "        return wav\n",
        "    \n",
        "    def process_wav_file(self, x, threshold_freq=5500, eps=1e-10):\n",
        "        # Read wav file to array\n",
        "        wav = self.read_wav_file(x)\n",
        "        # Sample rate\n",
        "        L = self.sample_rate\n",
        "        # If longer then randomly truncate\n",
        "        if len(wav) > L:\n",
        "            i = np.random.randint(0, len(wav) - L)\n",
        "            wav = wav[i:(i+L)]  \n",
        "        # If shorter then randomly add silence\n",
        "        elif len(wav) < L:\n",
        "            rem_len = L - len(wav)\n",
        "            silence_part = np.random.randint(-100,100,16000).astype(np.float32) / np.iinfo(np.int16).max\n",
        "            j = np.random.randint(0, rem_len)\n",
        "            silence_part_left  = silence_part[0:j]\n",
        "            silence_part_right = silence_part[j:rem_len]\n",
        "            wav = np.concatenate([silence_part_left, wav, silence_part_right])\n",
        "        # Create spectrogram using discrete FFT (change basis to frequencies)\n",
        "        freqs, times, spec = stft(wav, L, nperseg = 400, noverlap = 240, nfft = 512, padded = False, boundary = None)\n",
        "        # Cut high frequencies\n",
        "        if threshold_freq is not None:\n",
        "            spec = spec[freqs <= threshold_freq,:]\n",
        "            freqs = freqs[freqs <= threshold_freq]\n",
        "        # Log spectrogram\n",
        "        amp = np.log(np.abs(spec)+eps)\n",
        "    \n",
        "        return np.expand_dims(amp, axis=2) \n",
        "\n",
        "    def generator(self, batch_size, mode):\n",
        "        while True:\n",
        "            # Depending on mode select DataFrame with paths\n",
        "            if mode == 'train':\n",
        "                df = self.df_train \n",
        "                ids = random.sample(range(df.shape[0]), df.shape[0])\n",
        "            elif mode == 'val':\n",
        "                df = self.df_val\n",
        "                ids = list(range(df.shape[0]))\n",
        "            elif mode == 'test':\n",
        "                df = self.df_test\n",
        "                ids = list(range(df.shape[0]))\n",
        "            else:\n",
        "                raise ValueError('The mode should be either train, val or test.')\n",
        "                \n",
        "            # Create batches (for training data the batches are randomly permuted)\n",
        "            for start in range(0, len(ids), batch_size):\n",
        "                X_batch = []\n",
        "                if mode != 'test': \n",
        "                    y_batch = []\n",
        "                end = min(start + batch_size, len(ids))\n",
        "                i_batch = ids[start:end]\n",
        "                for i in i_batch:\n",
        "                    X_batch.append(self.process_wav_file(df.wav_file.values[i]))\n",
        "                    if mode != 'test':\n",
        "                        y_batch.append(df.label_id.values[i])\n",
        "                X_batch = np.array(X_batch)\n",
        "\n",
        "                if mode != 'test':\n",
        "                    y_batch = to_categorical(y_batch, num_classes = len(self.label_set))\n",
        "                    yield (X_batch, y_batch)\n",
        "                else:\n",
        "                    yield X_batch"
      ],
      "execution_count": 6,
      "outputs": []
    },
    {
      "cell_type": "code",
      "metadata": {
        "id": "lGLn6AcQKU-w",
        "colab_type": "code",
        "colab": {
          "base_uri": "https://localhost:8080/",
          "height": 34
        },
        "outputId": "fbb77a49-7748-4267-cb57-fce62257b7c1"
      },
      "source": [
        "'/content/bed/00176480_nohash_0.wav'.split(\"/\")[1]"
      ],
      "execution_count": null,
      "outputs": [
        {
          "output_type": "execute_result",
          "data": {
            "text/plain": [
              "'content'"
            ]
          },
          "metadata": {
            "tags": []
          },
          "execution_count": 40
        }
      ]
    },
    {
      "cell_type": "code",
      "metadata": {
        "id": "b6uikTuCrYZB",
        "colab_type": "code",
        "colab": {}
      },
      "source": [
        "wav_files = glob(os.path.join(DIR, '*/*wav'))\n",
        "wav_files = [x.split(sep='/')[2] + '/' + x.split(sep='/')[3] for x in wav_files]"
      ],
      "execution_count": null,
      "outputs": []
    },
    {
      "cell_type": "code",
      "metadata": {
        "id": "7vMHMmq-rm9M",
        "colab_type": "code",
        "colab": {
          "base_uri": "https://localhost:8080/",
          "height": 34
        },
        "outputId": "dacfd631-934a-4754-c653-c53bc7981383"
      },
      "source": [
        "wav_files[1]"
      ],
      "execution_count": null,
      "outputs": [
        {
          "output_type": "execute_result",
          "data": {
            "text/plain": [
              "'/content/happy'"
            ]
          },
          "metadata": {
            "tags": []
          },
          "execution_count": 44
        }
      ]
    },
    {
      "cell_type": "code",
      "metadata": {
        "id": "uRQJDxHgxZux",
        "colab_type": "code",
        "colab": {
          "base_uri": "https://localhost:8080/",
          "height": 231
        },
        "outputId": "585aa190-86a5-477d-b440-d447fc895fb8"
      },
      "source": [
        "data = []\n",
        "for e in wav_files:\n",
        "            \n",
        "  label, name = e.split('/')\n",
        "  if label in self.label_set:\n",
        "    label_id = self.text_to_labels(label)\n",
        "    fle = os.path.join(DIR, e)\n",
        "                \n",
        "    sample = (label, label_id, name, fle)\n",
        "    data.append(sample)"
      ],
      "execution_count": null,
      "outputs": [
        {
          "output_type": "error",
          "ename": "NameError",
          "evalue": "ignored",
          "traceback": [
            "\u001b[0;31m---------------------------------------------------------------------------\u001b[0m",
            "\u001b[0;31mNameError\u001b[0m                                 Traceback (most recent call last)",
            "\u001b[0;32m<ipython-input-50-01fad1b67979>\u001b[0m in \u001b[0;36m<module>\u001b[0;34m()\u001b[0m\n\u001b[1;32m      3\u001b[0m \u001b[0;34m\u001b[0m\u001b[0m\n\u001b[1;32m      4\u001b[0m   \u001b[0mlabel\u001b[0m\u001b[0;34m,\u001b[0m \u001b[0mname\u001b[0m \u001b[0;34m=\u001b[0m \u001b[0me\u001b[0m\u001b[0;34m.\u001b[0m\u001b[0msplit\u001b[0m\u001b[0;34m(\u001b[0m\u001b[0;34m'/'\u001b[0m\u001b[0;34m)\u001b[0m\u001b[0;34m\u001b[0m\u001b[0;34m\u001b[0m\u001b[0m\n\u001b[0;32m----> 5\u001b[0;31m   \u001b[0;32mif\u001b[0m \u001b[0mlabel\u001b[0m \u001b[0;32min\u001b[0m \u001b[0mself\u001b[0m\u001b[0;34m.\u001b[0m\u001b[0mlabel_set\u001b[0m\u001b[0;34m:\u001b[0m\u001b[0;34m\u001b[0m\u001b[0;34m\u001b[0m\u001b[0m\n\u001b[0m\u001b[1;32m      6\u001b[0m     \u001b[0mlabel_id\u001b[0m \u001b[0;34m=\u001b[0m \u001b[0mself\u001b[0m\u001b[0;34m.\u001b[0m\u001b[0mtext_to_labels\u001b[0m\u001b[0;34m(\u001b[0m\u001b[0mlabel\u001b[0m\u001b[0;34m)\u001b[0m\u001b[0;34m\u001b[0m\u001b[0;34m\u001b[0m\u001b[0m\n\u001b[1;32m      7\u001b[0m     \u001b[0mfle\u001b[0m \u001b[0;34m=\u001b[0m \u001b[0mos\u001b[0m\u001b[0;34m.\u001b[0m\u001b[0mpath\u001b[0m\u001b[0;34m.\u001b[0m\u001b[0mjoin\u001b[0m\u001b[0;34m(\u001b[0m\u001b[0mDIR\u001b[0m\u001b[0;34m,\u001b[0m \u001b[0me\u001b[0m\u001b[0;34m)\u001b[0m\u001b[0;34m\u001b[0m\u001b[0;34m\u001b[0m\u001b[0m\n",
            "\u001b[0;31mNameError\u001b[0m: name 'self' is not defined"
          ]
        }
      ]
    },
    {
      "cell_type": "code",
      "metadata": {
        "id": "5eJVrSvlyfQ2",
        "colab_type": "code",
        "colab": {}
      },
      "source": [
        "import os\n",
        "import numpy as np\n",
        "import pandas as pd\n",
        "import random\n",
        "    \n",
        "from glob import glob\n",
        "\n",
        "from scipy.io import wavfile\n",
        "from scipy.signal import stft\n",
        "\n",
        "from sklearn.model_selection import train_test_split\n",
        "\n",
        "from keras.utils import to_categorical\n",
        "\n",
        "class DatasetGenerator_CWT():\n",
        "    def __init__(self, label_set, \n",
        "                 sample_rate=16000):\n",
        "        \n",
        "        self.label_set = label_set\n",
        "        self.sample_rate = sample_rate\n",
        "            \n",
        "    # Covert string to numerical classes              \n",
        "    def text_to_labels(self, text):\n",
        "        return self.label_set.index(text)\n",
        "    \n",
        "    # Reverse translation of numerical classes back to characters\n",
        "    def labels_to_text(self, labels):\n",
        "        return self.label_set[labels]               \n",
        "        \n",
        "    def load_data(self, DIR):\n",
        "\n",
        "        # Get all paths inside DIR that ends with wav\n",
        "        wav_files = glob(os.path.join(DIR, '*/*wav'))\n",
        "        wav_files = [x.split(sep='/')[2] + '/' + x.split(sep='/')[3] for x in wav_files]\n",
        "        \n",
        "        # Loop over files to get samples\n",
        "        data = []\n",
        "        for e in wav_files:\n",
        "            \n",
        "            label, name = e.split('/')\n",
        "            if label in self.label_set:\n",
        "                label_id = self.text_to_labels(label)\n",
        "                fle = os.path.join(DIR, e)\n",
        "                \n",
        "                sample = (label, label_id, name, fle)\n",
        "                data.append(sample)\n",
        "            \n",
        "        # Data Frames with samples' labels and paths     \n",
        "        df = pd.DataFrame(data, columns = ['label', 'label_id', 'user_id', 'wav_file'])\n",
        "        \n",
        "        self.df = df\n",
        "        \n",
        "        return self.df\n",
        "\n",
        "    def apply_train_test_split(self, test_size, random_state):\n",
        "        \n",
        "        self.df_train, self.df_test = train_test_split(self.df, \n",
        "                                                       test_size=test_size,\n",
        "                                                       random_state=random_state)\n",
        "        \n",
        "    def apply_train_val_split(self, val_size, random_state):\n",
        "        \n",
        "        self.df_train, self.df_val = train_test_split(self.df_train, \n",
        "                                                      test_size=val_size, \n",
        "                                                      random_state=random_state)\n",
        "        \n",
        "    def read_wav_file(self, x):\n",
        "        # Read wavfile using scipy wavfile.read\n",
        "        _, wav = wavfile.read(x) \n",
        "        # Normalize\n",
        "        wav = wav.astype(np.float32) / np.iinfo(np.int16).max\n",
        "            \n",
        "        return wav\n",
        "    \n",
        "    def process_wav_file(self, x, threshold_freq=5500, eps=1e-10):\n",
        "        # Read wav file to array\n",
        "        wav = self.read_wav_file(x)\n",
        "        # Sample rate\n",
        "        L = self.sample_rate\n",
        "        # If longer then randomly truncate\n",
        "        if len(wav) > L:\n",
        "            i = np.random.randint(0, len(wav) - L)\n",
        "            wav = wav[i:(i+L)]  \n",
        "        # If shorter then randomly add silence\n",
        "        elif len(wav) < L:\n",
        "            rem_len = L - len(wav)\n",
        "            silence_part = np.random.randint(-100,100,16000).astype(np.float32) / np.iinfo(np.int16).max\n",
        "            j = np.random.randint(0, rem_len)\n",
        "            silence_part_left  = silence_part[0:j]\n",
        "            silence_part_right = silence_part[j:rem_len]\n",
        "            wav = np.concatenate([silence_part_left, wav, silence_part_right])\n",
        "        # Create spectrogram using discrete FFT (change basis to frequencies)\n",
        "        freqs = np.linspace(1, fs/2, 98)\n",
        "        times = np.linspace(0, 1, 16000, retstep=True)\n",
        "        spec = signal.cwt(sig, signal.morlet2, widths, w=6)\n",
        "        # Cut high frequencies\n",
        "        #if threshold_freq is not None:\n",
        "        #    spec = spec[freqs <= threshold_freq,:]\n",
        "        #    freqs = freqs[freqs <= threshold_freq]\n",
        "        # Log spectrogram\n",
        "        amp = np.log(np.abs(spec)+eps)\n",
        "    \n",
        "        return np.expand_dims(amp, axis=2) \n",
        "\n",
        "    def generator(self, batch_size, mode):\n",
        "        while True:\n",
        "            # Depending on mode select DataFrame with paths\n",
        "            if mode == 'train':\n",
        "                df = self.df_train \n",
        "                ids = random.sample(range(df.shape[0]), df.shape[0])\n",
        "            elif mode == 'val':\n",
        "                df = self.df_val\n",
        "                ids = list(range(df.shape[0]))\n",
        "            elif mode == 'test':\n",
        "                df = self.df_test\n",
        "                ids = list(range(df.shape[0]))\n",
        "            else:\n",
        "                raise ValueError('The mode should be either train, val or test.')\n",
        "                \n",
        "            # Create batches (for training data the batches are randomly permuted)\n",
        "            for start in range(0, len(ids), batch_size):\n",
        "                X_batch = []\n",
        "                if mode != 'test': \n",
        "                    y_batch = []\n",
        "                end = min(start + batch_size, len(ids))\n",
        "                i_batch = ids[start:end]\n",
        "                for i in i_batch:\n",
        "                    X_batch.append(self.process_wav_file(df.wav_file.values[i]))\n",
        "                    if mode != 'test':\n",
        "                        y_batch.append(df.label_id.values[i])\n",
        "                X_batch = np.array(X_batch)\n",
        "\n",
        "                if mode != 'test':\n",
        "                    y_batch = to_categorical(y_batch, num_classes = len(self.label_set))\n",
        "                    yield (X_batch, y_batch)\n",
        "                else:\n",
        "                    yield X_batch"
      ],
      "execution_count": 4,
      "outputs": []
    },
    {
      "cell_type": "code",
      "metadata": {
        "id": "DMq1falknFut",
        "colab_type": "code",
        "colab": {}
      },
      "source": [
        "from keras.models import Model\n",
        "from keras.layers import Input, Dense, Dropout, Flatten\n",
        "                          \n",
        "def deep(features_shape, num_classes, act='relu'):\n",
        "\n",
        "    # Input\n",
        "    x = Input(name='inputs', shape=features_shape, dtype='float32')\n",
        "    o = x\n",
        "    \n",
        "    # Flatten\n",
        "    o = Flatten(name='flatten')(o)\n",
        "    \n",
        "    # Dense layer\n",
        "    o = Dense(512, activation=act, name='dense1')(o)\n",
        "    o = Dense(512, activation=act, name='dense2')(o)\n",
        "    o = Dense(512, activation=act, name='dense3')(o)\n",
        "    \n",
        "    # Predictions\n",
        "    o = Dense(num_classes, activation='softmax', name='pred')(o)\n",
        "    \n",
        "    # Print network summary\n",
        "    Model(inputs=x, outputs=o).summary()\n",
        "    \n",
        "    return Model(inputs=x, outputs=o)\n",
        "\n",
        "from keras.layers import Conv2D, MaxPooling2D, BatchNormalization, LSTM\n",
        "\n",
        "def deep_cnn(features_shape, num_classes, act='relu'):\n",
        "\n",
        "    x = Input(name='inputs', shape=features_shape, dtype='float32')\n",
        "    o = x\n",
        "    \n",
        "    # Block 1\n",
        "    o = Conv2D(32, (3, 3), activation=act, padding='same', strides=1, name='block1_conv', input_shape=features_shape)(o)\n",
        "    o = MaxPooling2D((3, 3), strides=(2,2), padding='same', name='block1_pool')(o)\n",
        "    o = BatchNormalization(name='block1_norm')(o)\n",
        "    \n",
        "    # Block 2\n",
        "    o = Conv2D(32, (3, 3), activation=act, padding='same', strides=1, name='block2_conv')(o)\n",
        "    o = MaxPooling2D((3, 3), strides=(2,2), padding='same', name='block2_pool')(o)\n",
        "    o = BatchNormalization(name='block2_norm')(o)\n",
        "\n",
        "    # Block 3\n",
        "    o = Conv2D(32, (3, 3), activation=act, padding='same', strides=1, name='block3_conv')(o)\n",
        "    o = MaxPooling2D((3, 3), strides=(2,2), padding='same', name='block3_pool')(o)\n",
        "    o = BatchNormalization(name='block3_norm')(o)\n",
        "\n",
        "    # Flatten\n",
        "    o = Flatten(name='flatten')(o)\n",
        "    \n",
        "    # Dense layer\n",
        "    o = Dense(64, activation=act, name='dense')(o)\n",
        "    o = BatchNormalization(name='dense_norm')(o)\n",
        "    o = Dropout(0.2, name='dropout')(o)\n",
        "    \n",
        "    # Predictions\n",
        "    o = Dense(num_classes, activation='softmax', name='pred')(o)\n",
        "\n",
        "    # Print network summary\n",
        "    Model(inputs=x, outputs=o).summary()\n",
        "    \n",
        "    return Model(inputs=x, outputs=o)\n",
        "\n",
        "\n",
        "def deep_cnn_LSTM(features_shape, num_classes, act='relu'):\n",
        "\n",
        "\n",
        "  input_shape = (300,300,1)\n",
        "  conv_filters = 16\n",
        "  kernel_size = (3, 3)\n",
        "\n",
        "\n",
        "  seq = Sequential()\n",
        "\n",
        "  inp_layer = Input(name='the_input', shape=input_shape, dtype='float32',batch_shape=(1,300,300,1))\n",
        "  # x = BatchNormalization()(inp_layer)\n",
        "\n",
        "  x = Conv2D(8, kernel_size, padding='same',\n",
        "                   activation='tanh', kernel_initializer='he_normal',\n",
        "                    name='conv1')(inp_layer)\n",
        "  x = Conv2D(16, kernel_size, padding='same',\n",
        "                   activation='tanh', kernel_initializer='he_normal',\n",
        "                    name='conv1_1')(x)\n",
        "  x = Conv2D(32, kernel_size, padding='same',\n",
        "                   activation='tanh', kernel_initializer='he_normal',\n",
        "                    name='conv1_2')(x)\n",
        "  # x = Conv2D(16, kernel_size, padding='same',\n",
        "  #                    activation='tanh', kernel_initializer='he_normal',\n",
        "  #                     name='conv2')(x)\n",
        "  conv_to_LSTM_dims = (1,300,300,32)\n",
        "  x = Reshape(target_shape=conv_to_LSTM_dims, name='reshapeconvtolstm')(x)\n",
        "\n",
        "  x = ConvLSTM2D(filters=8, kernel_size=(3, 3),\n",
        "                   input_shape=(None, 300, 300, 32),\n",
        "                   padding='same', return_sequences=True,  stateful = True)(x)\n",
        "\n",
        "  LSTM_to_conv_dims = (300,300,8)\n",
        "  x = Reshape(target_shape=LSTM_to_conv_dims, name='reshapelstmtoconv')(x)\n",
        "\n",
        "\n",
        "  x = Conv2D(1, (1,1), padding='same',\n",
        "                   activation='sigmoid', kernel_initializer='he_normal',\n",
        "                    name='decoder')(x)\n",
        "\n",
        "\n",
        "  seq = Model(inputs=inp_layer, outputs=x)\n",
        "    \n",
        "  return Model(inputs=x, outputs=o)\n",
        "\n",
        "def deep_cnn_matlab(features_shape, num_classes, act='relu'):\n",
        "\n",
        "    x = Input(name='inputs', shape=features_shape, dtype='float32')\n",
        "    o = x\n",
        "    \n",
        "    # Block 1\n",
        "    o = Conv2D(16, (3, 3), activation=act, padding='same', strides=1, name='block1_conv', input_shape=features_shape)(o)\n",
        "    o = BatchNormalization(name='block1_norm')(o)\n",
        "    o = MaxPooling2D((2, 2), strides=(2,2), padding='same', name='block1_pool')(o)\n",
        "\n",
        "    # Block 2\n",
        "    o = Conv2D(32, (3, 3), activation=act, padding='same', strides=1, name='block2_conv')(o)\n",
        "    o = BatchNormalization(name='block2_norm')(o)\n",
        "\n",
        "    o = MaxPooling2D((2, 2), strides=(2,2), padding='same', name='block2_pool')(o)\n",
        "\n",
        "    # Block 3\n",
        "    o = Dropout(0.2, name='dropout3')(o)\n",
        "    o = Conv2D(64, (3, 3), activation=act, padding='same', strides=1, name='block3_conv')(o)\n",
        "    o = BatchNormalization(name='block3_norm')(o)\n",
        "\n",
        "    # Block 4\n",
        "    o = Dropout(0.2, name='dropout4')(o)\n",
        "    o = Conv2D(64, (3, 3), activation=act, padding='same', strides=1, name='block4_conv')(o)\n",
        "    o = BatchNormalization(name='block4_norm')(o)\n",
        "    o = MaxPooling2D((2, 2), strides=(2,2), padding='same', name='block4_pool')(o)\n",
        "\n",
        "    # Block 5\n",
        "    o = Dropout(0.2, name='dropout5')(o)\n",
        "    o = Conv2D(64, (3, 3), activation=act, padding='same', strides=1, name='block5_conv')(o)\n",
        "    o = BatchNormalization(name='block5_norm')(o)\n",
        "\n",
        "    # Block 6\n",
        "    o = Dropout(0.2, name='dropout6')(o)\n",
        "    o = Conv2D(64, (3, 3), activation=act, padding='same', strides=1, name='block6_conv')(o)\n",
        "    o = BatchNormalization(name='block6_norm')(o)\n",
        "\n",
        "    # Flatten\n",
        "    o = Flatten(name='flatten')(o)\n",
        "    \n",
        "    # Dense layer\n",
        "    o = Dense(64, activation=act, name='dense')(o)\n",
        "    o = BatchNormalization(name='dense_norm')(o)\n",
        "    o = Dropout(0.2, name='dropout')(o)\n",
        "    \n",
        "    # Predictions\n",
        "    o = Dense(num_classes, activation='softmax', name='pred')(o)\n",
        "\n",
        "    # Print network summary\n",
        "    Model(inputs=x, outputs=o).summary()\n",
        "    \n",
        "    return Model(inputs=x, outputs=o)"
      ],
      "execution_count": 3,
      "outputs": []
    },
    {
      "cell_type": "code",
      "metadata": {
        "id": "FIYzmBwHg7-Q",
        "colab_type": "code",
        "colab": {}
      },
      "source": [
        ""
      ],
      "execution_count": null,
      "outputs": []
    }
  ]
}